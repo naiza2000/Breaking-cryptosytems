{
  "nbformat": 4,
  "nbformat_minor": 0,
  "metadata": {
    "language_info": {
      "codemirror_mode": {
        "name": "ipython",
        "version": 3
      },
      "file_extension": ".py",
      "mimetype": "text/x-python",
      "name": "python",
      "nbconvert_exporter": "python",
      "pygments_lexer": "ipython3",
      "version": "3.8.3-final"
    },
    "orig_nbformat": 2,
    "kernelspec": {
      "name": "python3",
      "display_name": "Python 3",
      "language": "python"
    },
    "colab": {
      "name": "level0.ipynb",
      "provenance": [],
      "collapsed_sections": []
    }
  },
  "cells": [
    {
      "cell_type": "code",
      "metadata": {
        "id": "lXtj7rmuUqGK"
      },
      "source": [
        "import string\n",
        "from collections import Counter\n",
        "import json\n",
        "import matplotlib.pyplot as plt\n",
        "import seaborn as sns\n",
        "import math\n",
        "import random"
      ],
      "execution_count": 29,
      "outputs": []
    },
    {
      "cell_type": "code",
      "metadata": {
        "id": "BL1My2j7UqGM"
      },
      "source": [
        "cipher =\"\"\"\n",
        "wsam ie pjo ysgtm eyipbya .P axg niphay y,\n",
        "        mey syw ahgm ewhrg tw hmysyam wh meyiepjo\n",
        "        ys .Ag jygtmeyk pmys ie pjo ysavw kkoyjgsy\n",
        "        whmy sy amwh rmephmewagh y!Me yigu ynay utg\n",
        "        smew ajya apr ywap awjfkya no a mwmnmw\n",
        "        ghiwfeyswhve wieuwr wm aepby oyyhae wtmy\n",
        "        uox8 fkpiya. Me y fpaavgs uwa mxSrN03u wd\n",
        "        dvwmegnmmey dngmya. Mew awameyt\"\"\""
      ],
      "execution_count": 30,
      "outputs": []
    },
    {
      "cell_type": "code",
      "metadata": {
        "id": "LQhp8p07UqGN"
      },
      "source": [
        "# Strip all punctuation from string and make upper case\n",
        "encrypted_string = cipher.translate(str.maketrans(dict.fromkeys(string.punctuation))).replace('\\n','').replace(' ','').replace('0','').replace('3','').replace('8','').upper()"
      ],
      "execution_count": 31,
      "outputs": []
    },
    {
      "cell_type": "code",
      "metadata": {
        "colab": {
          "base_uri": "https://localhost:8080/",
          "height": 52
        },
        "id": "lKB_GBnHUqGN",
        "outputId": "9ec427d7-9ddf-40c5-dc8f-c25331bc4c1b"
      },
      "source": [
        "encrypted_string"
      ],
      "execution_count": 32,
      "outputs": [
        {
          "output_type": "execute_result",
          "data": {
            "application/vnd.google.colaboratory.intrinsic+json": {
              "type": "string"
            },
            "text/plain": [
              "'WSAMIEPJOYSGTMEYIPBYAPAXGNIPHAYYMEYSYWAHGMEWHRGTWHMYSYAMWHMEYIEPJOYSAGJYGTMEYKPMYSIEPJOYSAVWKKOYJGSYWHMYSYAMWHRMEPHMEWAGHYMEYIGUYNAYUTGSMEWAJYAAPRYWAPAWJFKYANOAMWMNMWGHIWFEYSWHVEWIEUWRWMAEPBYOYYHAEWTMYUOXFKPIYAMEYFPAAVGSUWAMXSRNUWDDVWMEGNMMEYDNGMYAMEWAWAMEYT'"
            ]
          },
          "metadata": {
            "tags": []
          },
          "execution_count": 32
        }
      ]
    },
    {
      "cell_type": "code",
      "metadata": {
        "id": "Y3FpPhpSUqGO"
      },
      "source": [
        "cnt = Counter().update({x:0 for x in string.ascii_uppercase})\n",
        "encrypted_string_freq = dict(sorted(Counter(encrypted_string).items(),key=lambda x: x[1], reverse=True))\n",
        "encrypted_string_percentages = dict(sorted({key:encrypted_string_freq[key]*100/float(len(encrypted_string)) for key in encrypted_string_freq.keys()}.items(),key=lambda x: x[1], reverse=True))"
      ],
      "execution_count": 33,
      "outputs": []
    },
    {
      "cell_type": "code",
      "metadata": {
        "id": "q8RRKJw0UqGO"
      },
      "source": [
        "cnt = Counter()\n",
        "cnt.update({x:0 for x in string.ascii_uppercase})\n",
        "cnt.update(encrypted_string)\n",
        "encrypted_string_freq = dict(sorted(cnt.items(),key=lambda x: x[1], reverse=True))\n",
        "encrypted_string_percentages = dict(sorted({key:encrypted_string_freq[key]*100/float(len(encrypted_string)) for key in encrypted_string_freq.keys()}.items(),key=lambda x: x[1], reverse=True))"
      ],
      "execution_count": 34,
      "outputs": []
    },
    {
      "cell_type": "code",
      "metadata": {
        "id": "6Yq4Dl4WUqGO"
      },
      "source": [
        "with open('english_monogram.json') as json_file: \n",
        "    english_monogram = json.load(json_file)"
      ],
      "execution_count": 35,
      "outputs": []
    },
    {
      "cell_type": "code",
      "metadata": {
        "id": "_Jl9OGL4UqGP"
      },
      "source": [
        "with open('english_bigrams.txt') as file:\n",
        "    lines = file.read().splitlines()\n",
        "    total = sum([int(x.split()[1]) for x in lines ])\n",
        "    english_bigram = {x.split()[0]:float(x.split()[1])/total for x in lines}"
      ],
      "execution_count": 37,
      "outputs": []
    },
    {
      "cell_type": "code",
      "metadata": {
        "id": "5W4w3JEiUqGP"
      },
      "source": [
        "with open('english_words.txt') as file:\n",
        "    english_words = [word.upper() for word in file.read().splitlines()]\n",
        "with open('golden_words.txt') as file:\n",
        "    golden_words = [word.upper() for word in file.read().splitlines()]"
      ],
      "execution_count": 212,
      "outputs": []
    },
    {
      "cell_type": "code",
      "metadata": {
        "colab": {
          "base_uri": "https://localhost:8080/",
          "height": 679
        },
        "id": "sNAudzejUqGP",
        "outputId": "8f6da153-7a88-4296-bcd5-9094bfc29d5a"
      },
      "source": [
        "fig,(ax1,ax2) = plt.subplots(1,2, figsize=(24,10))\n",
        "sns.barplot(list(encrypted_string_percentages.keys()), list(encrypted_string_percentages.values()),ax=ax1)\n",
        "for p in ax1.patches:\n",
        "    percentage = '{:.1f}%'.format(p.get_height())\n",
        "    x = p.get_x() + (p.get_width()/2)\n",
        "    y = p.get_height()\n",
        "    ax1.annotate(percentage, (x, y),ha='center')\n",
        "sns.barplot(list(english_monogram.keys()), list(english_monogram.values()),ax=ax2)\n",
        "for p in ax2.patches:\n",
        "    percentage = '{:.1f}%'.format(p.get_height())\n",
        "    x = p.get_x() + (p.get_width()/2)\n",
        "    y = p.get_height()\n",
        "    ax2.annotate(percentage, (x, y),ha='center')\n",
        "fig.show()"
      ],
      "execution_count": 36,
      "outputs": [
        {
          "output_type": "stream",
          "text": [
            "/usr/local/lib/python3.6/dist-packages/seaborn/_decorators.py:43: FutureWarning: Pass the following variables as keyword args: x, y. From version 0.12, the only valid positional argument will be `data`, and passing other arguments without an explicit keyword will result in an error or misinterpretation.\n",
            "  FutureWarning\n",
            "/usr/local/lib/python3.6/dist-packages/seaborn/_decorators.py:43: FutureWarning: Pass the following variables as keyword args: x, y. From version 0.12, the only valid positional argument will be `data`, and passing other arguments without an explicit keyword will result in an error or misinterpretation.\n",
            "  FutureWarning\n"
          ],
          "name": "stderr"
        },
        {
          "output_type": "display_data",
          "data": {
            "image/png": "[encoded data removed]",
            "text/plain": [
              "<Figure size 1728x720 with 2 Axes>"
            ]
          },
          "metadata": {
            "tags": [],
            "needs_background": "light"
          }
        }
      ]
    },
    {
      "cell_type": "code",
      "metadata": {
        "colab": {
          "base_uri": "https://localhost:8080/"
        },
        "id": "sGC6OLRdzYR8",
        "outputId": "98f1a62c-2071-4b86-d189-cb5e170dc59f"
      },
      "source": [
        "Counter(map(''.join, zip(encrypted_string,encrypted_string[1:]))).most_common(15)"
      ],
      "execution_count": 92,
      "outputs": [
        {
          "output_type": "execute_result",
          "data": {
            "text/plain": [
              "[('ME', 14),\n",
              " ('EY', 9),\n",
              " ('AM', 8),\n",
              " ('YS', 8),\n",
              " ('YA', 7),\n",
              " ('WA', 7),\n",
              " ('EW', 6),\n",
              " ('WH', 6),\n",
              " ('EP', 5),\n",
              " ('OY', 5),\n",
              " ('MY', 5),\n",
              " ('IE', 4),\n",
              " ('SY', 4),\n",
              " ('HM', 4),\n",
              " ('MW', 4)]"
            ]
          },
          "metadata": {
            "tags": []
          },
          "execution_count": 92
        }
      ]
    },
    {
      "cell_type": "code",
      "metadata": {
        "id": "ByGiqknj5K9P"
      },
      "source": [
        "# By comparing this data with the orignal data of bigrams it is quite easy to realize the following mapping Y->E,S->R,M->T,E->H,A->S"
      ],
      "execution_count": null,
      "outputs": []
    },
    {
      "cell_type": "code",
      "metadata": {
        "id": "cxRDUnzjUqGR"
      },
      "source": [
        "decrypt_key = {list(encrypted_string_percentages.keys())[i]:list(english_monogram.keys())[i] for i in range(len(encrypted_string_percentages.keys()))}"
      ],
      "execution_count": 221,
      "outputs": []
    },
    {
      "cell_type": "code",
      "metadata": {
        "id": "TSQXgbLE5bSE"
      },
      "source": [
        "decrypt_key['A'], decrypt_key['P'] = decrypt_key['P'], decrypt_key['A']\r\n",
        "decrypt_key['E'], decrypt_key['S'] = decrypt_key['S'], decrypt_key['E']\r\n",
        "decrypt_key['H'], decrypt_key['S'] = decrypt_key['S'], decrypt_key['H']"
      ],
      "execution_count": 222,
      "outputs": []
    },
    {
      "cell_type": "code",
      "metadata": {
        "id": "B05XcR1Vu-Ev"
      },
      "source": [
        "non_swappable = ['Y','S','M','E','A']"
      ],
      "execution_count": 223,
      "outputs": []
    },
    {
      "cell_type": "code",
      "metadata": {
        "colab": {
          "base_uri": "https://localhost:8080/"
        },
        "id": "4cPQni4_9jwQ",
        "outputId": "7eee27a8-cc72-48ca-8de2-65f83aaa2d47"
      },
      "source": [
        "decrypt_key"
      ],
      "execution_count": 224,
      "outputs": [
        {
          "output_type": "execute_result",
          "data": {
            "text/plain": [
              "{'A': 'S',\n",
              " 'B': 'K',\n",
              " 'C': 'X',\n",
              " 'D': 'B',\n",
              " 'E': 'H',\n",
              " 'F': 'G',\n",
              " 'G': 'N',\n",
              " 'H': 'I',\n",
              " 'I': 'D',\n",
              " 'J': 'L',\n",
              " 'K': 'F',\n",
              " 'L': 'J',\n",
              " 'M': 'T',\n",
              " 'N': 'U',\n",
              " 'O': 'C',\n",
              " 'P': 'A',\n",
              " 'Q': 'Q',\n",
              " 'R': 'Y',\n",
              " 'S': 'R',\n",
              " 'T': 'M',\n",
              " 'U': 'W',\n",
              " 'V': 'P',\n",
              " 'W': 'O',\n",
              " 'X': 'V',\n",
              " 'Y': 'E',\n",
              " 'Z': 'Z'}"
            ]
          },
          "metadata": {
            "tags": []
          },
          "execution_count": 224
        }
      ]
    },
    {
      "cell_type": "code",
      "metadata": {
        "id": "JjwrsnpvUqGQ"
      },
      "source": [
        "def score_text(text, letter_percents, bigram_percents,english_words,golden_words,letter_weight=1.0,bigram_weight=1.0,word_weight=10.0,golden_weight=5000.0):\n",
        "    total_weight = letter_weight + bigram_weight + word_weight + golden_weight\n",
        "    letter_weight = letter_weight / total_weight\n",
        "    bigram_weight = bigram_weight / total_weight\n",
        "    word_weight = word_weight / total_weight\n",
        "    golden_weight = golden_weight / total_weight\n",
        "\n",
        "    total_logprob = 0\n",
        "    for c1, c2 in zip(text[:-1], text[1:]):\n",
        "        letter_prob = letter_percents[c1]/100\n",
        "        bigram_prob = bigram_percents[c1 + c2]/100\n",
        "        total_logprob += math.log(\n",
        "            letter_weight * letter_prob +\n",
        "            bigram_weight * bigram_prob\n",
        "        )\n",
        "    word_score = sum([len(x)*word_weight if x in text else 0 for x in english_words])\n",
        "    golden_score = sum([len(x)*golden_weight if x in text else 0 for x in golden_words])\n",
        "    return total_logprob + math.log(word_score + golden_score + 0.1) "
      ],
      "execution_count": 225,
      "outputs": []
    },
    {
      "cell_type": "code",
      "metadata": {
        "colab": {
          "base_uri": "https://localhost:8080/"
        },
        "id": "NyEKc5TMUqGQ",
        "outputId": "f1b2343e-843b-4602-fbd9-52d4aff6a138"
      },
      "source": [
        "score_text(encrypted_string,english_monogram,english_bigram,english_words,golden_words)"
      ],
      "execution_count": 226,
      "outputs": [
        {
          "output_type": "execute_result",
          "data": {
            "text/plain": [
              "-3064.9592166556254"
            ]
          },
          "metadata": {
            "tags": []
          },
          "execution_count": 226
        }
      ]
    },
    {
      "cell_type": "code",
      "metadata": {
        "id": "tR8BXUKzUqGQ"
      },
      "source": [
        "def optimize_key(encrypted_string,decrypt_key,letter_percents, bigram_percents,english_words,golden_words):\n",
        "    iterations = int(1e4)\n",
        "    print_every = 1000 \n",
        "    best_score =  score_text(encrypted_string, letter_percents, bigram_percents,english_words,golden_words)\n",
        "    for iter_num in range(iterations):\n",
        "        a, b = swapper()\n",
        "        decrypt_key[a], decrypt_key[b] = decrypt_key[b], decrypt_key[a]\n",
        "        current_decrypt = decrypt(decrypt_key,encrypted_string)\n",
        "        new_score = score_text(current_decrypt, letter_percents, bigram_percents,english_words,golden_words)\n",
        "        if new_score > best_score:\n",
        "            best_score = new_score\n",
        "        else:\n",
        "            # Swap back\n",
        "            decrypt_key[a], decrypt_key[b] = decrypt_key[b], decrypt_key[a]\n",
        "        # Check progress\n",
        "        if iter_num % print_every == 0:\n",
        "            print('{n}: {d}'.format(n=iter_num,\n",
        "                                d=current_decrypt))"
      ],
      "execution_count": 227,
      "outputs": []
    },
    {
      "cell_type": "code",
      "metadata": {
        "id": "5MY4y2mEUqGS"
      },
      "source": [
        "def swapper():\r\n",
        "  char = random.choice(string.ascii_uppercase.translate(str.maketrans({char:'' for char in non_swappable})))\r\n",
        "  char_list = list(encrypted_string_percentages.keys())\r\n",
        "  char_index = char_list.index(char)\r\n",
        "  chars_in_vicinity = [list(encrypted_string_percentages.keys())[x]  for x in range(0,26) if ( abs(x-char_index)<=3 and char_list[x] != char and (char_list[x] not in non_swappable))]\r\n",
        "  return char,random.choice(chars_in_vicinity)"
      ],
      "execution_count": 187,
      "outputs": []
    },
    {
      "cell_type": "code",
      "metadata": {
        "id": "fTeihjKzUqGR"
      },
      "source": [
        "def decrypt(decrypt_key,encrypted_string):\n",
        "    return \"\".join([ decrypt_key[x] if x in decrypt_key.keys() else x for x in encrypted_string])"
      ],
      "execution_count": 188,
      "outputs": []
    },
    {
      "cell_type": "code",
      "metadata": {
        "tags": [],
        "colab": {
          "base_uri": "https://localhost:8080/"
        },
        "id": "cN4FlKAFUqGR",
        "outputId": "eb83b9fa-53bd-4221-b0d4-33cfc495e2b4"
      },
      "source": [
        "optimize_key(encrypted_string,decrypt_key,english_monogram,english_bigram,english_words,golden_words)"
      ],
      "execution_count": 228,
      "outputs": [
        {
          "output_type": "stream",
          "text": [
            "0: ORSTDHALCERNMTHEDAKESASVNUDAISEETHEREOSINTHOIYNMOITERESTOITHEDHALCERSNLENMTHEFATERDHALCERSPOFFCELNREOITERESTOIYTHAITHOSNIETHEDNWEUSEWMNRTHOSLESSAYEOSASOLGFESUCSTOTUTONIDOGHEROIPHODHWOYOTSHAKECEEISHOMTEWCVGFADESTHEGASSPNRWOSTVRYUWOBBPOTHNUTTHEBUNTESTHOSOSTHEM\n",
            "1000: IRSTDHOCLERAFTHEDOKESOSVAUDONSEETHEREISNATHINGAFINTERESTINTHEDHOCLERSACEAFTHEMOTERDHOCLERSPIMMLECAREINTERESTINGTHONTHISANETHEDAWEUSEWFARTHISCESSOGEISOSICYMESULSTITUTIANDIYHERINPHIDHWIGITSHOKELEENSHIFTEWLVYMODESTHEYOSSPARWISTVRGUWIBBPITHAUTTHEBUATESTHISISTHEF\n",
            "2000: IRSTDHOCLERAFTHEDOKESOSPAUDONSEETHEREISNATHINGAFINTERESTINTHEDHOCLERSACEAFTHEMOTERDHOCLERSBIMMLECAREINTERESTINGTHONTHISANETHEDAWEUSEWFARTHISCESSOGEISOSICYMESULSTITUTIANDIYHERINBHIDHWIGITSHOKELEENSHIFTEWLPYMODESTHEYOSSBARWISTPRGUWIVVBITHAUTTHEVUATESTHISISTHEF\n",
            "3000: IRSTDHOCLERAGTHEDOKESOSBAUDONSEETHEREISNATHINFAGINTERESTINTHEDHOCLERSACEAGTHEMOTERDHOCLERSPIMMLECAREINTERESTINFTHONTHISANETHEDAWEUSEWGARTHISCESSOFEISOSICYMESULSTITUTIANDIYHERINPHIDHWIFITSHOKELEENSHIGTEWLBYMODESTHEYOSSPARWISTBRFUWIVVPITHAUTTHEVUATESTHISISTHEG\n",
            "4000: IRSTDHOCLERAFTHEDOKESOSBAWDONSEETHEREISNATHINGAFINTERESTINTHEDHOCLERSACEAFTHEMOTERDHOCLERSPIMMLECAREINTERESTINGTHONTHISANETHEDAUEWSEUFARTHISCESSOGEISOSICYMESWLSTITWTIANDIYHERINPHIDHUIGITSHOKELEENSHIFTEULBYMODESTHEYOSSPARUISTBRGWUIVVPITHAWTTHEVWATESTHISISTHEF\n",
            "5000: IRSTDHOCLERAFTHEDOPESOSBAUDONSEETHEREISNATHINGAFINTERESTINTHEDHOCLERSACEAFTHEMOTERDHOCLERSKIMMLECAREINTERESTINGTHONTHISANETHEDAWEUSEWFARTHISCESSOGEISOSICYMESULSTITUTIANDIYHERINKHIDHWIGITSHOPELEENSHIFTEWLBYMODESTHEYOSSKARWISTBRGUWIVVKITHAUTTHEVUATESTHISISTHEF\n",
            "6000: IRSTDHOCLERAFTHEDOKESOSBAUDONSEETHEREISNATHINGAFINTERESTINTHEDHOCLERSACEAFTHEMOTERDHOCLERSPIMMLECAREINTERESTINGTHONTHISANETHEDAWEUSEWFARTHISCESSOGEISOSICYMESULSTITUTIANDIYHERINPHIDHWIGITSHOKELEENSHIFTEWLBYMODESTHEYOSSPARWISTBRGUWIVVPITHAUTTHEVUATESTHISISTHEF\n",
            "7000: IRSTDHOCLERAMTHEDOKESOSBAUDONSEETHEREISNATHINGAMINTERESTINTHEDHOCLERSACEAMTHEFOTERDHOCLERSPIFFLECAREINTERESTINGTHONTHISANETHEDAWEUSEWMARTHISCESSOGEISOSICYFESULSTITUTIANDIYHERINPHIDHWIGITSHOKELEENSHIMTEWLBYFODESTHEYOSSPARWISTBRGUWIVVPITHAUTTHEVUATESTHISISTHEM\n",
            "8000: IRSTDHOCLERAFTHEDOKESOSBAUDONSEETHEREISNATHINGAFINTERESTINTHEDHOCLERSACEAFTHEMOTERDHOCLERSPIMMLECAREINTERESTINGTHONTHISANETHEDAWEUSEWFARTHISCESSOGEISOSICYMESULSTITUTIANDIYHERINPHIDHWIGITSHOKELEENSHIFTEWLBYMODESTHEYOSSPARWISTBRGUWIVVPITHAUTTHEVUATESTHISISTHEF\n",
            "9000: IRSTDHOCFERALTHEDOKESOSBAUDONSEETHEREISNATHINGALINTERESTINTHEDHOCFERSACEALTHEMOTERDHOCFERSPIMMFECAREINTERESTINGTHONTHISANETHEDAWEUSEWLARTHISCESSOGEISOSICYMESUFSTITUTIANDIYHERINPHIDHWIGITSHOKEFEENSHILTEWFBYMODESTHEYOSSPARWISTBRGUWIVVPITHAUTTHEVUATESTHISISTHEL\n"
          ],
          "name": "stdout"
        }
      ]
    },
    {
      "cell_type": "code",
      "metadata": {
        "id": "8rO-n3qX5z49"
      },
      "source": [
        "# Now we can see a very good phrase starting from the end 'THISISTHELIRST' -> 'THISISTHEFIRST' , 'INTERESTINGTHONTHIS -> THAN THIS, so we have 2 more keys"
      ],
      "execution_count": null,
      "outputs": []
    },
    {
      "cell_type": "code",
      "metadata": {
        "colab": {
          "base_uri": "https://localhost:8080/"
        },
        "id": "iBkxPVIL50zw",
        "outputId": "0663d6eb-0644-4a5b-a9f7-58ffee0fa5e0"
      },
      "source": [
        "decrypt_key"
      ],
      "execution_count": 229,
      "outputs": [
        {
          "output_type": "execute_result",
          "data": {
            "text/plain": [
              "{'A': 'S',\n",
              " 'B': 'K',\n",
              " 'C': 'Z',\n",
              " 'D': 'V',\n",
              " 'E': 'H',\n",
              " 'F': 'Y',\n",
              " 'G': 'A',\n",
              " 'H': 'N',\n",
              " 'I': 'D',\n",
              " 'J': 'C',\n",
              " 'K': 'M',\n",
              " 'L': 'J',\n",
              " 'M': 'T',\n",
              " 'N': 'U',\n",
              " 'O': 'L',\n",
              " 'P': 'O',\n",
              " 'Q': 'Q',\n",
              " 'R': 'G',\n",
              " 'S': 'R',\n",
              " 'T': 'F',\n",
              " 'U': 'W',\n",
              " 'V': 'P',\n",
              " 'W': 'I',\n",
              " 'X': 'B',\n",
              " 'Y': 'E',\n",
              " 'Z': 'X'}"
            ]
          },
          "metadata": {
            "tags": []
          },
          "execution_count": 229
        }
      ]
    },
    {
      "cell_type": "code",
      "metadata": {
        "id": "-0mGB4uSF6Fj"
      },
      "source": [
        "backup = decrypt_key.copy()"
      ],
      "execution_count": 231,
      "outputs": []
    },
    {
      "cell_type": "code",
      "metadata": {
        "id": "J3v5zhK55aLu"
      },
      "source": [
        "decrypt_key['O'],decrypt_key['T'] = decrypt_key['T'],decrypt_key['O']"
      ],
      "execution_count": 247,
      "outputs": []
    },
    {
      "cell_type": "code",
      "metadata": {
        "colab": {
          "base_uri": "https://localhost:8080/"
        },
        "id": "uSKynnYQCWTR",
        "outputId": "ad72c566-dea3-4038-b63f-ec0d0438c503"
      },
      "source": [
        "decrypt_key"
      ],
      "execution_count": 248,
      "outputs": [
        {
          "output_type": "execute_result",
          "data": {
            "text/plain": [
              "{'A': 'S',\n",
              " 'B': 'K',\n",
              " 'C': 'Z',\n",
              " 'D': 'V',\n",
              " 'E': 'H',\n",
              " 'F': 'Y',\n",
              " 'G': 'A',\n",
              " 'H': 'N',\n",
              " 'I': 'D',\n",
              " 'J': 'C',\n",
              " 'K': 'M',\n",
              " 'L': 'J',\n",
              " 'M': 'T',\n",
              " 'N': 'U',\n",
              " 'O': 'L',\n",
              " 'P': 'O',\n",
              " 'Q': 'Q',\n",
              " 'R': 'G',\n",
              " 'S': 'R',\n",
              " 'T': 'F',\n",
              " 'U': 'W',\n",
              " 'V': 'P',\n",
              " 'W': 'I',\n",
              " 'X': 'B',\n",
              " 'Y': 'E',\n",
              " 'Z': 'X'}"
            ]
          },
          "metadata": {
            "tags": []
          },
          "execution_count": 248
        }
      ]
    },
    {
      "cell_type": "code",
      "metadata": {
        "id": "Z3eXpTmvuA8r"
      },
      "source": [
        "non_swappable.append('T')"
      ],
      "execution_count": 234,
      "outputs": []
    },
    {
      "cell_type": "code",
      "metadata": {
        "colab": {
          "base_uri": "https://localhost:8080/",
          "height": 52
        },
        "id": "JG7cUyQ8uBem",
        "outputId": "dec94058-f93d-4a80-b865-df635c963285"
      },
      "source": [
        "decrypt(decrypt_key,encrypted_string)"
      ],
      "execution_count": 243,
      "outputs": [
        {
          "output_type": "execute_result",
          "data": {
            "application/vnd.google.colaboratory.intrinsic+json": {
              "type": "string"
            },
            "text/plain": [
              "'IRSTDHOCLERAFTHEDOKESOSBAUDONSEETHEREISNATHINGAFINTERESTINTHEDHOCLERSACEAFTHEMOTERDHOCLERSPIMMLECAREINTERESTINGTHONTHISANETHEDAWEUSEWFARTHISCESSOGEISOSICYMESULSTITUTIANDIYHERINPHIDHWIGITSHOKELEENSHIFTEWLBYMODESTHEYOSSPARWISTBRGUWIVVPITHAUTTHEVUATESTHISISTHEF'"
            ]
          },
          "metadata": {
            "tags": []
          },
          "execution_count": 243
        }
      ]
    },
    {
      "cell_type": "code",
      "metadata": {
        "colab": {
          "base_uri": "https://localhost:8080/"
        },
        "id": "ih2Q_Vl3Cfba",
        "outputId": "8e08678c-b737-4142-d739-55b7ae4a8240"
      },
      "source": [
        "optimize_key(encrypted_string,decrypt_key,english_monogram,english_bigram,english_words,golden_words)"
      ],
      "execution_count": 250,
      "outputs": [
        {
          "output_type": "stream",
          "text": [
            "0: IRSTDHOCLERAFTHEDOZESOSBAUDONSEETHEREISNATHINGAFINTERESTINTHEDHOCLERSACEAFTHEMOTERDHOCLERSPIMMLECAREINTERESTINGTHONTHISANETHEDAWEUSEWFARTHISCESSOGEISOSICYMESULSTITUTIANDIYHERINPHIDHWIGITSHOZELEENSHIFTEWLBYMODESTHEYOSSPARWISTBRGUWIVVPITHAUTTHEVUATESTHISISTHEF\n",
            "1000: IRSTDHOCLERAFTHEDOKESOSBAUDONSEETHEREISNATHINGAFINTERESTINTHEDHOCLERSACEAFTHEWOTERDHOCLERSPIWWLECAREINTERESTINGTHONTHISANETHEDAMEUSEMFARTHISCESSOGEISOSICYWESULSTITUTIANDIYHERINPHIDHMIGITSHOKELEENSHIFTEMLBYWODESTHEYOSSPARMISTBRGUMIVVPITHAUTTHEVUATESTHISISTHEF\n",
            "2000: IRSTDHOCLERNFTHEDOKESOSBNUDOASEETHEREISANTHIAGNFIATERESTIATHEDHOCLERSNCENFTHEMOTERDHOCLERSPIMMLECNREIATERESTIAGTHOATHISNAETHEDNWEUSEWFNRTHISCESSOGEISOSICYMESULSTITUTINADIYHERIAPHIDHWIGITSHOKELEEASHIFTEWLBYMODESTHEYOSSPNRWISTBRGUWIVVPITHNUTTHEVUNTESTHISISTHEF\n",
            "3000: IRSTDHOCLERAFTHEDOKESOSBAWDONSEETHEREISNATHINGAFINTERESTINTHEDHOCLERSACEAFTHEMOTERDHOCLERSPIMMLECAREINTERESTINGTHONTHISANETHEDAUEWSEUFARTHISCESSOGEISOSICYMESWLSTITWTIANDIYHERINPHIDHUIGITSHOKELEENSHIFTEULBYMODESTHEYOSSPARUISTBRGWUIVVPITHAWTTHEVWATESTHISISTHEF\n",
            "4000: IRSTDHOCLERAFTHEDOKESOSBAUDONSEETHEREISNATHINGAFINTERESTINTHEDHOCLERSACEAFTHEMOTERDHOCLERSPIMMLECAREINTERESTINGTHONTHISANETHEDAWEUSEWFARTHISCESSOGEISOSICYMESULSTITUTIANDIYHERINPHIDHWIGITSHOKELEENSHIFTEWLBYMODESTHEYOSSPARWISTBRGUWIZZPITHAUTTHEZUATESTHISISTHEF\n",
            "5000: IRSTDHOCLERAFTHEDOKESOSBAUDONSEETHEREISNATHINGAFINTERESTINTHEDHOCLERSACEAFTHEMOTERDHOCLERSPIMMLECAREINTERESTINGTHONTHISANETHEDAWEUSEWFARTHISCESSOGEISOSICYMESULSTITUTIANDIYHERINPHIDHWIGITSHOKELEENSHIFTEWLBYMODESTHEYOSSPARWISTBRGUWIVVPITHAUTTHEVUATESTHISISTHEF\n",
            "6000: IRSTDHOCLERAFTHEDOKESOSBAUDONSEETHEREISNATHINGAFINTERESTINTHEDHOCLERSACEAFTHEPOTERDHOCLERSMIPPLECAREINTERESTINGTHONTHISANETHEDAWEUSEWFARTHISCESSOGEISOSICYPESULSTITUTIANDIYHERINMHIDHWIGITSHOKELEENSHIFTEWLBYPODESTHEYOSSMARWISTBRGUWIVVMITHAUTTHEVUATESTHISISTHEF\n",
            "7000: IRSTDHOCLERAFTHEDOKESOSBAUDONSEETHEREISNATHINYAFINTERESTINTHEDHOCLERSACEAFTHEMOTERDHOCLERSPIMMLECAREINTERESTINYTHONTHISANETHEDAWEUSEWFARTHISCESSOYEISOSICGMESULSTITUTIANDIGHERINPHIDHWIYITSHOKELEENSHIFTEWLBGMODESTHEGOSSPARWISTBRYUWIVVPITHAUTTHEVUATESTHISISTHEF\n",
            "8000: IRSTDHOCLERAFTHEDOKESOSBAWDONSEETHEREISNATHINGAFINTERESTINTHEDHOCLERSACEAFTHEMOTERDHOCLERSPIMMLECAREINTERESTINGTHONTHISANETHEDAUEWSEUFARTHISCESSOGEISOSICYMESWLSTITWTIANDIYHERINPHIDHUIGITSHOKELEENSHIFTEULBYMODESTHEYOSSPARUISTBRGWUIVVPITHAWTTHEVWATESTHISISTHEF\n",
            "9000: IRSTDHOCLERAFTHEDOKESOSBAUDONSEETHEREISNATHINGAFINTERESTINTHEDHOCLERSACEAFTHEMOTERDHOCLERSPIMMLECAREINTERESTINGTHONTHISANETHEDAWEUSEWFARTHISCESSOGEISOSICYMESULSTITUTIANDIYHERINPHIDHWIGITSHOKELEENSHIFTEWLBYMODESTHEYOSSPARWISTBRGUWIVVPITHAUTTHEVUATESTHISISTHEF\n"
          ],
          "name": "stdout"
        }
      ]
    },
    {
      "cell_type": "code",
      "metadata": {
        "id": "EkYM2M8wC0Pg"
      },
      "source": [
        "# We now again see 'NATHING->NOTHING'"
      ],
      "execution_count": 199,
      "outputs": []
    },
    {
      "cell_type": "code",
      "metadata": {
        "colab": {
          "base_uri": "https://localhost:8080/"
        },
        "id": "dRMkMmVbDD_9",
        "outputId": "ccc6a7e8-5552-4478-ce25-dffe7470c17c"
      },
      "source": [
        "decrypt_key"
      ],
      "execution_count": 251,
      "outputs": [
        {
          "output_type": "execute_result",
          "data": {
            "text/plain": [
              "{'A': 'S',\n",
              " 'B': 'K',\n",
              " 'C': 'Z',\n",
              " 'D': 'V',\n",
              " 'E': 'H',\n",
              " 'F': 'Y',\n",
              " 'G': 'A',\n",
              " 'H': 'N',\n",
              " 'I': 'D',\n",
              " 'J': 'C',\n",
              " 'K': 'M',\n",
              " 'L': 'J',\n",
              " 'M': 'T',\n",
              " 'N': 'U',\n",
              " 'O': 'L',\n",
              " 'P': 'O',\n",
              " 'Q': 'Q',\n",
              " 'R': 'G',\n",
              " 'S': 'R',\n",
              " 'T': 'F',\n",
              " 'U': 'W',\n",
              " 'V': 'P',\n",
              " 'W': 'I',\n",
              " 'X': 'B',\n",
              " 'Y': 'E',\n",
              " 'Z': 'X'}"
            ]
          },
          "metadata": {
            "tags": []
          },
          "execution_count": 251
        }
      ]
    },
    {
      "cell_type": "code",
      "metadata": {
        "id": "XiFEtDgjDNKv"
      },
      "source": [
        "decrypt_key['G'],decrypt_key['P'] = decrypt_key['P'],decrypt_key['G']"
      ],
      "execution_count": 252,
      "outputs": []
    },
    {
      "cell_type": "code",
      "metadata": {
        "colab": {
          "base_uri": "https://localhost:8080/",
          "height": 52
        },
        "id": "-ypTsYbxEBE0",
        "outputId": "dc4bab1a-67a4-4f50-96e3-3b3b2be41bfb"
      },
      "source": [
        "decrypt(decrypt_key,encrypted_string)"
      ],
      "execution_count": 254,
      "outputs": [
        {
          "output_type": "execute_result",
          "data": {
            "application/vnd.google.colaboratory.intrinsic+json": {
              "type": "string"
            },
            "text/plain": [
              "'IRSTDHACLEROFTHEDAKESASBOUDANSEETHEREISNOTHINGOFINTERESTINTHEDHACLERSOCEOFTHEMATERDHACLERSPIMMLECOREINTERESTINGTHANTHISONETHEDOWEUSEWFORTHISCESSAGEISASICYMESULSTITUTIONDIYHERINPHIDHWIGITSHAKELEENSHIFTEWLBYMADESTHEYASSPORWISTBRGUWIVVPITHOUTTHEVUOTESTHISISTHEF'"
            ]
          },
          "metadata": {
            "tags": []
          },
          "execution_count": 254
        }
      ]
    },
    {
      "cell_type": "code",
      "metadata": {
        "colab": {
          "base_uri": "https://localhost:8080/"
        },
        "id": "WtPa6LdRHxIr",
        "outputId": "0f605fc5-17ae-4f7d-8b6e-2c202a35675d"
      },
      "source": [
        "# Big Find -> SULSTITUTIONDIYHER -> SUBSTITUTIONCIPHER\r\n",
        "decrypt_key"
      ],
      "execution_count": 255,
      "outputs": [
        {
          "output_type": "execute_result",
          "data": {
            "text/plain": [
              "{'A': 'S',\n",
              " 'B': 'K',\n",
              " 'C': 'Z',\n",
              " 'D': 'V',\n",
              " 'E': 'H',\n",
              " 'F': 'Y',\n",
              " 'G': 'O',\n",
              " 'H': 'N',\n",
              " 'I': 'D',\n",
              " 'J': 'C',\n",
              " 'K': 'M',\n",
              " 'L': 'J',\n",
              " 'M': 'T',\n",
              " 'N': 'U',\n",
              " 'O': 'L',\n",
              " 'P': 'A',\n",
              " 'Q': 'Q',\n",
              " 'R': 'G',\n",
              " 'S': 'R',\n",
              " 'T': 'F',\n",
              " 'U': 'W',\n",
              " 'V': 'P',\n",
              " 'W': 'I',\n",
              " 'X': 'B',\n",
              " 'Y': 'E',\n",
              " 'Z': 'X'}"
            ]
          },
          "metadata": {
            "tags": []
          },
          "execution_count": 255
        }
      ]
    },
    {
      "cell_type": "code",
      "metadata": {
        "id": "6ZCJ6CoIIcYj"
      },
      "source": [
        "decrypt_key['O'],decrypt_key['X'] = decrypt_key['X'],decrypt_key['O']"
      ],
      "execution_count": 256,
      "outputs": []
    },
    {
      "cell_type": "code",
      "metadata": {
        "id": "xykFIRzxIqjf"
      },
      "source": [
        "decrypt_key['I'],decrypt_key['J'] = decrypt_key['J'],decrypt_key['I']"
      ],
      "execution_count": 258,
      "outputs": []
    },
    {
      "cell_type": "code",
      "metadata": {
        "id": "gqomqYBsI0op"
      },
      "source": [
        "decrypt_key['F'],decrypt_key['V'] = decrypt_key['V'],decrypt_key['F']"
      ],
      "execution_count": 260,
      "outputs": []
    },
    {
      "cell_type": "code",
      "metadata": {
        "colab": {
          "base_uri": "https://localhost:8080/",
          "height": 52
        },
        "id": "8cEmWmukJCQA",
        "outputId": "8ce13c8e-4060-4503-d144-83f0b79e11a1"
      },
      "source": [
        "decrypt(decrypt_key,encrypted_string)"
      ],
      "execution_count": 262,
      "outputs": [
        {
          "output_type": "execute_result",
          "data": {
            "application/vnd.google.colaboratory.intrinsic+json": {
              "type": "string"
            },
            "text/plain": [
              "'IRSTCHADBEROFTHECAKESASLOUCANSEETHEREISNOTHINGOFINTERESTINTHECHADBERSODEOFTHEMATERCHADBERSYIMMBEDOREINTERESTINGTHANTHISONETHECOWEUSEWFORTHISDESSAGEISASIDPMESUBSTITUTIONCIPHERINYHICHWIGITSHAKEBEENSHIFTEWBLPMACESTHEPASSYORWISTLRGUWIVVYITHOUTTHEVUOTESTHISISTHEF'"
            ]
          },
          "metadata": {
            "tags": []
          },
          "execution_count": 262
        }
      ]
    },
    {
      "cell_type": "code",
      "metadata": {
        "id": "qJuR0OkUJH43"
      },
      "source": [
        "non_swappable.append('G')\r\n",
        "non_swappable.append('I')\r\n",
        "non_swappable.append('O')\r\n",
        "non_swappable.append('F')"
      ],
      "execution_count": 264,
      "outputs": []
    },
    {
      "cell_type": "code",
      "metadata": {
        "colab": {
          "base_uri": "https://localhost:8080/"
        },
        "id": "j085P9QPJgLv",
        "outputId": "5f76f13d-ca01-471b-b504-90c402c82312"
      },
      "source": [
        "non_swappable"
      ],
      "execution_count": 265,
      "outputs": [
        {
          "output_type": "execute_result",
          "data": {
            "text/plain": [
              "['Y', 'S', 'M', 'E', 'A', 'T', 'G', 'I', 'O', 'F']"
            ]
          },
          "metadata": {
            "tags": []
          },
          "execution_count": 265
        }
      ]
    },
    {
      "cell_type": "code",
      "metadata": {
        "colab": {
          "base_uri": "https://localhost:8080/"
        },
        "id": "B1ZtR2JfJ5ma",
        "outputId": "630fdd22-cc5e-464b-c4aa-5c1d383ced31"
      },
      "source": [
        "optimize_key(encrypted_string,decrypt_key,english_monogram,english_bigram,english_words,golden_words)"
      ],
      "execution_count": 267,
      "outputs": [
        {
          "output_type": "stream",
          "text": [
            "0: IRSTCHADBEROFTHECAKESASYOUCANSEETHEREISNOTHINWOFINTERESTINTHECHADBERSODEOFTHEGATERCHADBERSMIGGBEDOREINTERESTINWTHANTHISONETHECOLEUSELFORTHISDESSAWEISASIDPGESUBSTITUTIONCIPHERINMHICHLIWITSHAKEBEENSHIFTELBYPGACESTHEPASSMORLISTYRWULIVVMITHOUTTHEVUOTESTHISISTHEF\n",
            "1000: IRSTCHADBEROFTHECAKESASYOUCANSEETHEREISNOTHINWOFINTERESTINTHECHADBERSODEOFTHEGATERCHADBERSMIGGBEDOREINTERESTINWTHANTHISONETHECOLEUSELFORTHISDESSAWEISASIDPGESUBSTITUTIONCIPHERINMHICHLIWITSHAKEBEENSHIFTELBYPGACESTHEPASSMORLISTYRWULIVVMITHOUTTHEVUOTESTHISISTHEF\n",
            "2000: IRSTCHADBEROFTHECAKESASYOUCANSEETHEREISNOTHINWOFINTERESTINTHECHADBERSODEOFTHELATERCHADBERSGILLBEDOREINTERESTINWTHANTHISONETHECOMEUSEMFORTHISDESSAWEISASIDPLESUBSTITUTIONCIPHERINGHICHMIWITSHAKEBEENSHIFTEMBYPLACESTHEPASSGORMISTYRWUMIVVGITHOUTTHEVUOTESTHISISTHEF\n",
            "3000: IRSTCHADBEROFTHECAKESASYOUCANSEETHEREISNOTHINWOFINTERESTINTHECHADBERSODEOFTHEMATERCHADBERSVIMMBEDOREINTERESTINWTHANTHISONETHECOLEUSELFORTHISDESSAWEISASIDPMESUBSTITUTIONCIPHERINVHICHLIWITSHAKEBEENSHIFTELBYPMACESTHEPASSVORLISTYRWULIGGVITHOUTTHEGUOTESTHISISTHEF\n",
            "4000: IRSTCHNDBEROFTHECNKESNSYOUCNASEETHEREISAOTHIAWOFIATERESTIATHECHNDBERSODEOFTHEMNTERCHNDBERSGIMMBEDOREIATERESTIAWTHNATHISOAETHECOLEUSELFORTHISDESSNWEISNSIDPMESUBSTITUTIOACIPHERIAGHICHLIWITSHNKEBEEASHIFTELBYPMNCESTHEPNSSGORLISTYRWULIVVGITHOUTTHEVUOTESTHISISTHEF\n",
            "5000: IRSTCHADBEROFTHECAKESASZOUCANSEETHEREISNOTHINWOFINTERESTINTHECHADBERSODEOFTHEMATERCHADBERSGIMMBEDOREINTERESTINWTHANTHISONETHECOLEUSELFORTHISDESSAWEISASIDPMESUBSTITUTIONCIPHERINGHICHLIWITSHAKEBEENSHIFTELBZPMACESTHEPASSGORLISTZRWULIVVGITHOUTTHEVUOTESTHISISTHEF\n",
            "6000: IRSTCHADBEROFTHECAKESASYOUCANSEETHEREISNOTHINWOFINTERESTINTHECHADBERSODEOFTHEGATERCHADBERSMIGGBEDOREINTERESTINWTHANTHISONETHECOLEUSELFORTHISDESSAWEISASIDPGESUBSTITUTIONCIPHERINMHICHLIWITSHAKEBEENSHIFTELBYPGACESTHEPASSMORLISTYRWULIVVMITHOUTTHEVUOTESTHISISTHEF\n",
            "7000: IRSTCHNDBEROFTHECNKESNSYOUCNASEETHEREISAOTHIAWOFIATERESTIATHECHNDBERSODEOFTHEMNTERCHNDBERSGIMMBEDOREIATERESTIAWTHNATHISOAETHECOLEUSELFORTHISDESSNWEISNSIDPMESUBSTITUTIOACIPHERIAGHICHLIWITSHNKEBEEASHIFTELBYPMNCESTHEPNSSGORLISTYRWULIVVGITHOUTTHEVUOTESTHISISTHEF\n",
            "8000: IRSTCHADBEROFTHECAKESASVOUCANSEETHEREISNOTHINWOFINTERESTINTHECHADBERSODEOFTHEMATERCHADBERSGIMMBEDOREINTERESTINWTHANTHISONETHECOLEUSELFORTHISDESSAWEISASIDPMESUBSTITUTIONCIPHERINGHICHLIWITSHAKEBEENSHIFTELBVPMACESTHEPASSGORLISTVRWULIYYGITHOUTTHEYUOTESTHISISTHEF\n",
            "9000: IRSTCHADBEROFTHECAKESASGOUCANSEETHEREISNOTHINWOFINTERESTINTHECHADBERSODEOFTHEMATERCHADBERSYIMMBEDOREINTERESTINWTHANTHISONETHECOLEUSELFORTHISDESSAWEISASIDPMESUBSTITUTIONCIPHERINYHICHLIWITSHAKEBEENSHIFTELBGPMACESTHEPASSYORLISTGRWULIVVYITHOUTTHEVUOTESTHISISTHEF\n"
          ],
          "name": "stdout"
        }
      ]
    },
    {
      "cell_type": "code",
      "metadata": {
        "colab": {
          "base_uri": "https://localhost:8080/"
        },
        "id": "8YieJU3cJ9Io",
        "outputId": "6be539ef-b519-4db4-ad50-5c94cc9306b8"
      },
      "source": [
        "# More clues CHADBER MAPS TO CHAMBER AND WE GET A NEAT LINE \"AS YOU CAN SEE THERE IS NOTHING OF INTEREST IN THE CHAMBER\"\r\n",
        "# MORE CORRECTIONS\r\n",
        "decrypt_key"
      ],
      "execution_count": 268,
      "outputs": [
        {
          "output_type": "execute_result",
          "data": {
            "text/plain": [
              "{'A': 'S',\n",
              " 'B': 'K',\n",
              " 'C': 'Z',\n",
              " 'D': 'V',\n",
              " 'E': 'H',\n",
              " 'F': 'P',\n",
              " 'G': 'O',\n",
              " 'H': 'N',\n",
              " 'I': 'C',\n",
              " 'J': 'D',\n",
              " 'K': 'M',\n",
              " 'L': 'Q',\n",
              " 'M': 'T',\n",
              " 'N': 'U',\n",
              " 'O': 'B',\n",
              " 'P': 'A',\n",
              " 'Q': 'J',\n",
              " 'R': 'W',\n",
              " 'S': 'R',\n",
              " 'T': 'F',\n",
              " 'U': 'L',\n",
              " 'V': 'G',\n",
              " 'W': 'I',\n",
              " 'X': 'Y',\n",
              " 'Y': 'E',\n",
              " 'Z': 'X'}"
            ]
          },
          "metadata": {
            "tags": []
          },
          "execution_count": 268
        }
      ]
    },
    {
      "cell_type": "code",
      "metadata": {
        "id": "G77S-9JCLKRr"
      },
      "source": [
        "decrypt_key['J'],decrypt_key['K'] = decrypt_key['K'],decrypt_key['J']\r\n",
        "non_swappable.append('J')"
      ],
      "execution_count": 269,
      "outputs": []
    },
    {
      "cell_type": "code",
      "metadata": {
        "id": "LQC14J0GLgxM"
      },
      "source": [
        "decrypt_key['V'],decrypt_key['X'] = decrypt_key['X'],decrypt_key['V']\r\n",
        "non_swappable.append('V')"
      ],
      "execution_count": 271,
      "outputs": []
    },
    {
      "cell_type": "code",
      "metadata": {
        "id": "7C2UZBIvLrHg"
      },
      "source": [
        "decrypt_key['R'],decrypt_key['X'] = decrypt_key['X'],decrypt_key['R']\r\n",
        "non_swappable.append('R')"
      ],
      "execution_count": 274,
      "outputs": []
    },
    {
      "cell_type": "code",
      "metadata": {
        "colab": {
          "base_uri": "https://localhost:8080/",
          "height": 52
        },
        "id": "RQGrs8qwL6PP",
        "outputId": "8c953040-0ee0-4f72-dcf6-fcb3091b0d1d"
      },
      "source": [
        "decrypt(decrypt_key,encrypted_string)"
      ],
      "execution_count": 283,
      "outputs": [
        {
          "output_type": "execute_result",
          "data": {
            "application/vnd.google.colaboratory.intrinsic+json": {
              "type": "string"
            },
            "text/plain": [
              "'IRSTCHAMBEROFTHECAKESASYOUCANSEETHEREISNOTHINGOFINTERESTINTHECHAMBERSOMEOFTHEDATERCHAMBERSWIDDBEMOREINTERESTINGTHANTHISONETHECOLEUSELFORTHISMESSAGEISASIMPDESUBSTITUTIONCIPHERINWHICHLIGITSHAKEBEENSHIFTELBYPDACESTHEPASSWORLISTYRGULIVVWITHOUTTHEVUOTESTHISISTHEF'"
            ]
          },
          "metadata": {
            "tags": []
          },
          "execution_count": 283
        }
      ]
    },
    {
      "cell_type": "code",
      "metadata": {
        "id": "RQtZL6kfL9y0"
      },
      "source": [
        "# We can now see the entire string forming, infact we see the word password forming"
      ],
      "execution_count": 282,
      "outputs": []
    },
    {
      "cell_type": "code",
      "metadata": {
        "colab": {
          "base_uri": "https://localhost:8080/"
        },
        "id": "Agn7MKhPMGv_",
        "outputId": "633fafa8-a06e-4d8f-d5b1-d2936661d03f"
      },
      "source": [
        "decrypt_key"
      ],
      "execution_count": 284,
      "outputs": [
        {
          "output_type": "execute_result",
          "data": {
            "text/plain": [
              "{'A': 'S',\n",
              " 'B': 'K',\n",
              " 'C': 'Z',\n",
              " 'D': 'V',\n",
              " 'E': 'H',\n",
              " 'F': 'P',\n",
              " 'G': 'O',\n",
              " 'H': 'N',\n",
              " 'I': 'C',\n",
              " 'J': 'M',\n",
              " 'K': 'D',\n",
              " 'L': 'Q',\n",
              " 'M': 'T',\n",
              " 'N': 'U',\n",
              " 'O': 'B',\n",
              " 'P': 'A',\n",
              " 'Q': 'J',\n",
              " 'R': 'G',\n",
              " 'S': 'R',\n",
              " 'T': 'F',\n",
              " 'U': 'L',\n",
              " 'V': 'W',\n",
              " 'W': 'I',\n",
              " 'X': 'Y',\n",
              " 'Y': 'E',\n",
              " 'Z': 'X'}"
            ]
          },
          "metadata": {
            "tags": []
          },
          "execution_count": 284
        }
      ]
    },
    {
      "cell_type": "code",
      "metadata": {
        "id": "XVxyJuOvNFGs"
      },
      "source": [
        "decrypt_key['U'],decrypt_key['K'] = decrypt_key['K'],decrypt_key['U']\r\n"
      ],
      "execution_count": 285,
      "outputs": []
    },
    {
      "cell_type": "code",
      "metadata": {
        "colab": {
          "base_uri": "https://localhost:8080/",
          "height": 52
        },
        "id": "GQZlBYESNcCL",
        "outputId": "8133c659-135d-4acd-810f-e0981a45911e"
      },
      "source": [
        "decrypt(decrypt_key,encrypted_string)"
      ],
      "execution_count": 286,
      "outputs": [
        {
          "output_type": "execute_result",
          "data": {
            "application/vnd.google.colaboratory.intrinsic+json": {
              "type": "string"
            },
            "text/plain": [
              "'IRSTCHAMBEROFTHECAKESASYOUCANSEETHEREISNOTHINGOFINTERESTINTHECHAMBERSOMEOFTHELATERCHAMBERSWILLBEMOREINTERESTINGTHANTHISONETHECODEUSEDFORTHISMESSAGEISASIMPLESUBSTITUTIONCIPHERINWHICHDIGITSHAKEBEENSHIFTEDBYPLACESTHEPASSWORDISTYRGUDIVVWITHOUTTHEVUOTESTHISISTHEF'"
            ]
          },
          "metadata": {
            "tags": []
          },
          "execution_count": 286
        }
      ]
    },
    {
      "cell_type": "code",
      "metadata": {
        "colab": {
          "base_uri": "https://localhost:8080/"
        },
        "id": "fU8Xj74GNdsX",
        "outputId": "b9fc0170-e253-41b5-c114-624e423b52c7"
      },
      "source": [
        "# Now we just plugin the final piece in the puzzle i.e. the mapping of the word cave which is shown cake\r\n",
        "decrypt_key"
      ],
      "execution_count": 287,
      "outputs": [
        {
          "output_type": "execute_result",
          "data": {
            "text/plain": [
              "{'A': 'S',\n",
              " 'B': 'K',\n",
              " 'C': 'Z',\n",
              " 'D': 'V',\n",
              " 'E': 'H',\n",
              " 'F': 'P',\n",
              " 'G': 'O',\n",
              " 'H': 'N',\n",
              " 'I': 'C',\n",
              " 'J': 'M',\n",
              " 'K': 'L',\n",
              " 'L': 'Q',\n",
              " 'M': 'T',\n",
              " 'N': 'U',\n",
              " 'O': 'B',\n",
              " 'P': 'A',\n",
              " 'Q': 'J',\n",
              " 'R': 'G',\n",
              " 'S': 'R',\n",
              " 'T': 'F',\n",
              " 'U': 'D',\n",
              " 'V': 'W',\n",
              " 'W': 'I',\n",
              " 'X': 'Y',\n",
              " 'Y': 'E',\n",
              " 'Z': 'X'}"
            ]
          },
          "metadata": {
            "tags": []
          },
          "execution_count": 287
        }
      ]
    },
    {
      "cell_type": "code",
      "metadata": {
        "id": "v8J-aEBVNx2C"
      },
      "source": [
        "decrypt_key['B'],decrypt_key['D'] = decrypt_key['D'],decrypt_key['B']\r\n"
      ],
      "execution_count": 288,
      "outputs": []
    },
    {
      "cell_type": "code",
      "metadata": {
        "colab": {
          "base_uri": "https://localhost:8080/",
          "height": 52
        },
        "id": "mA2NBYTLONJV",
        "outputId": "fac2875d-2478-4470-ad6d-23dd530dc6cf"
      },
      "source": [
        "decrypt(decrypt_key,encrypted_string)"
      ],
      "execution_count": 289,
      "outputs": [
        {
          "output_type": "execute_result",
          "data": {
            "application/vnd.google.colaboratory.intrinsic+json": {
              "type": "string"
            },
            "text/plain": [
              "'IRSTCHAMBEROFTHECAVESASYOUCANSEETHEREISNOTHINGOFINTERESTINTHECHAMBERSOMEOFTHELATERCHAMBERSWILLBEMOREINTERESTINGTHANTHISONETHECODEUSEDFORTHISMESSAGEISASIMPLESUBSTITUTIONCIPHERINWHICHDIGITSHAVEBEENSHIFTEDBYPLACESTHEPASSWORDISTYRGUDIKKWITHOUTTHEKUOTESTHISISTHEF'"
            ]
          },
          "metadata": {
            "tags": []
          },
          "execution_count": 289
        }
      ]
    },
    {
      "cell_type": "code",
      "metadata": {
        "colab": {
          "base_uri": "https://localhost:8080/"
        },
        "id": "nhxko8STOPGZ",
        "outputId": "bed45dc9-d1b2-4dcc-83bf-0bec7d1685af"
      },
      "source": [
        "# Voilaaaa!!!!!!! Just fix the last one it's quotes not kuotes!\r\n",
        "decrypt_key['D'],decrypt_key['L'] = decrypt_key['L'],decrypt_key['D']\r\n",
        "decrypt_key"
      ],
      "execution_count": 291,
      "outputs": [
        {
          "output_type": "execute_result",
          "data": {
            "text/plain": [
              "{'A': 'S',\n",
              " 'B': 'V',\n",
              " 'C': 'Z',\n",
              " 'D': 'Q',\n",
              " 'E': 'H',\n",
              " 'F': 'P',\n",
              " 'G': 'O',\n",
              " 'H': 'N',\n",
              " 'I': 'C',\n",
              " 'J': 'M',\n",
              " 'K': 'L',\n",
              " 'L': 'K',\n",
              " 'M': 'T',\n",
              " 'N': 'U',\n",
              " 'O': 'B',\n",
              " 'P': 'A',\n",
              " 'Q': 'J',\n",
              " 'R': 'G',\n",
              " 'S': 'R',\n",
              " 'T': 'F',\n",
              " 'U': 'D',\n",
              " 'V': 'W',\n",
              " 'W': 'I',\n",
              " 'X': 'Y',\n",
              " 'Y': 'E',\n",
              " 'Z': 'X'}"
            ]
          },
          "metadata": {
            "tags": []
          },
          "execution_count": 291
        }
      ]
    },
    {
      "cell_type": "code",
      "metadata": {
        "colab": {
          "base_uri": "https://localhost:8080/",
          "height": 52
        },
        "id": "dpDHbXyoOTym",
        "outputId": "f0d75417-73e2-4d1a-e64b-d0e02a156b7e"
      },
      "source": [
        "decrypt(decrypt_key,encrypted_string)"
      ],
      "execution_count": 292,
      "outputs": [
        {
          "output_type": "execute_result",
          "data": {
            "application/vnd.google.colaboratory.intrinsic+json": {
              "type": "string"
            },
            "text/plain": [
              "'IRSTCHAMBEROFTHECAVESASYOUCANSEETHEREISNOTHINGOFINTERESTINTHECHAMBERSOMEOFTHELATERCHAMBERSWILLBEMOREINTERESTINGTHANTHISONETHECODEUSEDFORTHISMESSAGEISASIMPLESUBSTITUTIONCIPHERINWHICHDIGITSHAVEBEENSHIFTEDBYPLACESTHEPASSWORDISTYRGUDIQQWITHOUTTHEQUOTESTHISISTHEF'"
            ]
          },
          "metadata": {
            "tags": []
          },
          "execution_count": 292
        }
      ]
    },
    {
      "cell_type": "code",
      "metadata": {
        "colab": {
          "base_uri": "https://localhost:8080/"
        },
        "id": "QKF7uE7bROEd",
        "outputId": "1819e8a3-09f6-4978-91d6-57c1a1ecf219"
      },
      "source": [
        "print(decrypt({**decrypt_key,**{x.lower():decrypt_key[x].lower() for x in decrypt_key.keys()}},cipher))"
      ],
      "execution_count": 298,
      "outputs": [
        {
          "output_type": "stream",
          "text": [
            "\n",
            "irst ch amb eroft hecaves .A syo ucanse e,\n",
            "        the rei snot hingo fi nterest in thechamb\n",
            "        er .So meofthel ater ch amb erswi llbemore\n",
            "        inte re stin gthanthison e!Th ecod euse dfo\n",
            "        rthi smes sag eisa simples ub s tituti\n",
            "        oncipherinwh ichdig it shave beensh ifte\n",
            "        dby8 places. Th e passwor dis tyRgU03d iq\n",
            "        qwithoutthe quotes. Thi sisthef\n"
          ],
          "name": "stdout"
        }
      ]
    }
  ]
}